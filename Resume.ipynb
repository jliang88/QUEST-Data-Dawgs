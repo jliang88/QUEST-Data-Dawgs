{
 "cells": [
  {
   "cell_type": "code",
   "execution_count": 26,
   "metadata": {},
   "outputs": [],
   "source": [
    "import pandas as pd\n",
    "import numpy as np\n",
    "import matplotlib.pyplot as plt\n",
    "import nltk\n",
    "import re\n"
   ]
  },
  {
   "cell_type": "code",
   "execution_count": 27,
   "metadata": {},
   "outputs": [],
   "source": [
    "df = pd.read_csv('resume_dataset.csv')"
   ]
  },
  {
   "cell_type": "code",
   "execution_count": 28,
   "metadata": {},
   "outputs": [
    {
     "data": {
      "text/html": [
       "<div>\n",
       "<style scoped>\n",
       "    .dataframe tbody tr th:only-of-type {\n",
       "        vertical-align: middle;\n",
       "    }\n",
       "\n",
       "    .dataframe tbody tr th {\n",
       "        vertical-align: top;\n",
       "    }\n",
       "\n",
       "    .dataframe thead th {\n",
       "        text-align: right;\n",
       "    }\n",
       "</style>\n",
       "<table border=\"1\" class=\"dataframe\">\n",
       "  <thead>\n",
       "    <tr style=\"text-align: right;\">\n",
       "      <th></th>\n",
       "      <th>ID</th>\n",
       "      <th>Category</th>\n",
       "      <th>Resume</th>\n",
       "    </tr>\n",
       "  </thead>\n",
       "  <tbody>\n",
       "    <tr>\n",
       "      <td>0</td>\n",
       "      <td>1</td>\n",
       "      <td>HR</td>\n",
       "      <td>b'John H. Smith, P.H.R.\\n800-991-5187 | PO Box...</td>\n",
       "    </tr>\n",
       "    <tr>\n",
       "      <td>1</td>\n",
       "      <td>2</td>\n",
       "      <td>HR</td>\n",
       "      <td>b'Name Surname\\nAddress\\nMobile No/Email\\nPERS...</td>\n",
       "    </tr>\n",
       "    <tr>\n",
       "      <td>2</td>\n",
       "      <td>3</td>\n",
       "      <td>HR</td>\n",
       "      <td>b'Anthony Brown\\nHR Assistant\\nAREAS OF EXPERT...</td>\n",
       "    </tr>\n",
       "    <tr>\n",
       "      <td>3</td>\n",
       "      <td>4</td>\n",
       "      <td>HR</td>\n",
       "      <td>b'www.downloadmela.com\\nSatheesh\\nEMAIL ID:\\nC...</td>\n",
       "    </tr>\n",
       "    <tr>\n",
       "      <td>4</td>\n",
       "      <td>5</td>\n",
       "      <td>HR</td>\n",
       "      <td>b\"HUMAN RESOURCES DIRECTOR\\n\\xef\\x82\\xb7Expert...</td>\n",
       "    </tr>\n",
       "  </tbody>\n",
       "</table>\n",
       "</div>"
      ],
      "text/plain": [
       "   ID Category                                             Resume\n",
       "0   1       HR  b'John H. Smith, P.H.R.\\n800-991-5187 | PO Box...\n",
       "1   2       HR  b'Name Surname\\nAddress\\nMobile No/Email\\nPERS...\n",
       "2   3       HR  b'Anthony Brown\\nHR Assistant\\nAREAS OF EXPERT...\n",
       "3   4       HR  b'www.downloadmela.com\\nSatheesh\\nEMAIL ID:\\nC...\n",
       "4   5       HR  b\"HUMAN RESOURCES DIRECTOR\\n\\xef\\x82\\xb7Expert..."
      ]
     },
     "execution_count": 28,
     "metadata": {},
     "output_type": "execute_result"
    }
   ],
   "source": [
    "df.head()"
   ]
  },
  {
   "cell_type": "code",
   "execution_count": 29,
   "metadata": {},
   "outputs": [],
   "source": [
    "categories = ['HR', 'Designing', 'Managment', 'Information Technology',\n",
    "       'Education', 'Advocate', 'Business Development',\n",
    "       'Health & Fitness', 'Agricultural', 'BPO', 'Sales', 'Consultant',\n",
    "       'Digital Media', 'Automobile', 'Food & Beverages', 'Finance',\n",
    "       'Apparel', 'Engineering', 'Accountant', 'Building & Construction',\n",
    "       'Architects', 'Public Relations', 'Banking', 'Arts', 'Aviation']"
   ]
  },
  {
   "cell_type": "code",
   "execution_count": 30,
   "metadata": {},
   "outputs": [
    {
     "data": {
      "text/plain": [
       "<matplotlib.axes._subplots.AxesSubplot at 0x1a188ea310>"
      ]
     },
     "execution_count": 30,
     "metadata": {},
     "output_type": "execute_result"
    },
    {
     "data": {
      "image/png": "[encoded data removed]",
      "text/plain": [
       "<Figure size 432x288 with 1 Axes>"
      ]
     },
     "metadata": {
      "needs_background": "light"
     },
     "output_type": "display_data"
    }
   ],
   "source": [
    "df.groupby('Category').count()['ID'].plot.bar()"
   ]
  },
  {
   "cell_type": "code",
   "execution_count": 31,
   "metadata": {},
   "outputs": [],
   "source": [
    "cleaned_df = df.drop('ID', axis=1)"
   ]
  },
  {
   "cell_type": "code",
   "execution_count": 32,
   "metadata": {},
   "outputs": [
    {
     "data": {
      "text/html": [
       "<div>\n",
       "<style scoped>\n",
       "    .dataframe tbody tr th:only-of-type {\n",
       "        vertical-align: middle;\n",
       "    }\n",
       "\n",
       "    .dataframe tbody tr th {\n",
       "        vertical-align: top;\n",
       "    }\n",
       "\n",
       "    .dataframe thead th {\n",
       "        text-align: right;\n",
       "    }\n",
       "</style>\n",
       "<table border=\"1\" class=\"dataframe\">\n",
       "  <thead>\n",
       "    <tr style=\"text-align: right;\">\n",
       "      <th></th>\n",
       "      <th>Category</th>\n",
       "      <th>Resume</th>\n",
       "    </tr>\n",
       "  </thead>\n",
       "  <tbody>\n",
       "    <tr>\n",
       "      <td>0</td>\n",
       "      <td>HR</td>\n",
       "      <td>b'John H. Smith, P.H.R.\\n800-991-5187 | PO Box...</td>\n",
       "    </tr>\n",
       "    <tr>\n",
       "      <td>1</td>\n",
       "      <td>HR</td>\n",
       "      <td>b'Name Surname\\nAddress\\nMobile No/Email\\nPERS...</td>\n",
       "    </tr>\n",
       "    <tr>\n",
       "      <td>2</td>\n",
       "      <td>HR</td>\n",
       "      <td>b'Anthony Brown\\nHR Assistant\\nAREAS OF EXPERT...</td>\n",
       "    </tr>\n",
       "    <tr>\n",
       "      <td>3</td>\n",
       "      <td>HR</td>\n",
       "      <td>b'www.downloadmela.com\\nSatheesh\\nEMAIL ID:\\nC...</td>\n",
       "    </tr>\n",
       "    <tr>\n",
       "      <td>4</td>\n",
       "      <td>HR</td>\n",
       "      <td>b\"HUMAN RESOURCES DIRECTOR\\n\\xef\\x82\\xb7Expert...</td>\n",
       "    </tr>\n",
       "  </tbody>\n",
       "</table>\n",
       "</div>"
      ],
      "text/plain": [
       "  Category                                             Resume\n",
       "0       HR  b'John H. Smith, P.H.R.\\n800-991-5187 | PO Box...\n",
       "1       HR  b'Name Surname\\nAddress\\nMobile No/Email\\nPERS...\n",
       "2       HR  b'Anthony Brown\\nHR Assistant\\nAREAS OF EXPERT...\n",
       "3       HR  b'www.downloadmela.com\\nSatheesh\\nEMAIL ID:\\nC...\n",
       "4       HR  b\"HUMAN RESOURCES DIRECTOR\\n\\xef\\x82\\xb7Expert..."
      ]
     },
     "execution_count": 32,
     "metadata": {},
     "output_type": "execute_result"
    }
   ],
   "source": [
    "cleaned_df.head()"
   ]
  },
  {
   "cell_type": "code",
   "execution_count": 33,
   "metadata": {
    "scrolled": true
   },
   "outputs": [],
   "source": [
    "cleaned_df['Resume'] = df['Resume'].apply(lambda row: row[2:-1])"
   ]
  },
  {
   "cell_type": "code",
   "execution_count": 34,
   "metadata": {},
   "outputs": [
    {
     "data": {
      "text/html": [
       "<div>\n",
       "<style scoped>\n",
       "    .dataframe tbody tr th:only-of-type {\n",
       "        vertical-align: middle;\n",
       "    }\n",
       "\n",
       "    .dataframe tbody tr th {\n",
       "        vertical-align: top;\n",
       "    }\n",
       "\n",
       "    .dataframe thead th {\n",
       "        text-align: right;\n",
       "    }\n",
       "</style>\n",
       "<table border=\"1\" class=\"dataframe\">\n",
       "  <thead>\n",
       "    <tr style=\"text-align: right;\">\n",
       "      <th></th>\n",
       "      <th>Category</th>\n",
       "      <th>Resume</th>\n",
       "    </tr>\n",
       "  </thead>\n",
       "  <tbody>\n",
       "    <tr>\n",
       "      <td>0</td>\n",
       "      <td>HR</td>\n",
       "      <td>John H. Smith, P.H.R.\\n800-991-5187 | PO Box 1...</td>\n",
       "    </tr>\n",
       "    <tr>\n",
       "      <td>1</td>\n",
       "      <td>HR</td>\n",
       "      <td>Name Surname\\nAddress\\nMobile No/Email\\nPERSON...</td>\n",
       "    </tr>\n",
       "    <tr>\n",
       "      <td>2</td>\n",
       "      <td>HR</td>\n",
       "      <td>Anthony Brown\\nHR Assistant\\nAREAS OF EXPERTIS...</td>\n",
       "    </tr>\n",
       "    <tr>\n",
       "      <td>3</td>\n",
       "      <td>HR</td>\n",
       "      <td>www.downloadmela.com\\nSatheesh\\nEMAIL ID:\\nCar...</td>\n",
       "    </tr>\n",
       "    <tr>\n",
       "      <td>4</td>\n",
       "      <td>HR</td>\n",
       "      <td>HUMAN RESOURCES DIRECTOR\\n\\xef\\x82\\xb7Expert i...</td>\n",
       "    </tr>\n",
       "  </tbody>\n",
       "</table>\n",
       "</div>"
      ],
      "text/plain": [
       "  Category                                             Resume\n",
       "0       HR  John H. Smith, P.H.R.\\n800-991-5187 | PO Box 1...\n",
       "1       HR  Name Surname\\nAddress\\nMobile No/Email\\nPERSON...\n",
       "2       HR  Anthony Brown\\nHR Assistant\\nAREAS OF EXPERTIS...\n",
       "3       HR  www.downloadmela.com\\nSatheesh\\nEMAIL ID:\\nCar...\n",
       "4       HR  HUMAN RESOURCES DIRECTOR\\n\\xef\\x82\\xb7Expert i..."
      ]
     },
     "execution_count": 34,
     "metadata": {},
     "output_type": "execute_result"
    }
   ],
   "source": [
    "cleaned_df.head()"
   ]
  },
  {
   "cell_type": "code",
   "execution_count": 35,
   "metadata": {},
   "outputs": [],
   "source": [
    "# \\\\x --> \\x (so that regex doesn't count it as an escape sequence)\n",
    "# \\w --> any non whitespace character\n",
    "\n",
    "# \\\\x\\w\\w matches \\x--, where - is not a whitespace character\n",
    "cleaned_df['split_resume'] = cleaned_df['Resume'].apply(\n",
    "    lambda x: [re.sub(r'\\\\x\\w\\w', '', i) for i in x.split('\\\\n') if len(re.sub(r'\\\\x\\w\\w', '', i).strip()) > 0])"
   ]
  },
  {
   "cell_type": "code",
   "execution_count": 36,
   "metadata": {},
   "outputs": [
    {
     "data": {
      "text/html": [
       "<div>\n",
       "<style scoped>\n",
       "    .dataframe tbody tr th:only-of-type {\n",
       "        vertical-align: middle;\n",
       "    }\n",
       "\n",
       "    .dataframe tbody tr th {\n",
       "        vertical-align: top;\n",
       "    }\n",
       "\n",
       "    .dataframe thead th {\n",
       "        text-align: right;\n",
       "    }\n",
       "</style>\n",
       "<table border=\"1\" class=\"dataframe\">\n",
       "  <thead>\n",
       "    <tr style=\"text-align: right;\">\n",
       "      <th></th>\n",
       "      <th>Category</th>\n",
       "      <th>Resume</th>\n",
       "      <th>split_resume</th>\n",
       "    </tr>\n",
       "  </thead>\n",
       "  <tbody>\n",
       "    <tr>\n",
       "      <td>0</td>\n",
       "      <td>HR</td>\n",
       "      <td>John H. Smith, P.H.R.\\n800-991-5187 | PO Box 1...</td>\n",
       "      <td>[John H. Smith, P.H.R., 800-991-5187 | PO Box ...</td>\n",
       "    </tr>\n",
       "    <tr>\n",
       "      <td>1</td>\n",
       "      <td>HR</td>\n",
       "      <td>Name Surname\\nAddress\\nMobile No/Email\\nPERSON...</td>\n",
       "      <td>[Name Surname, Address, Mobile No/Email, PERSO...</td>\n",
       "    </tr>\n",
       "    <tr>\n",
       "      <td>2</td>\n",
       "      <td>HR</td>\n",
       "      <td>Anthony Brown\\nHR Assistant\\nAREAS OF EXPERTIS...</td>\n",
       "      <td>[Anthony Brown, HR Assistant, AREAS OF EXPERTI...</td>\n",
       "    </tr>\n",
       "    <tr>\n",
       "      <td>3</td>\n",
       "      <td>HR</td>\n",
       "      <td>www.downloadmela.com\\nSatheesh\\nEMAIL ID:\\nCar...</td>\n",
       "      <td>[www.downloadmela.com, Satheesh, EMAIL ID:, Ca...</td>\n",
       "    </tr>\n",
       "    <tr>\n",
       "      <td>4</td>\n",
       "      <td>HR</td>\n",
       "      <td>HUMAN RESOURCES DIRECTOR\\n\\xef\\x82\\xb7Expert i...</td>\n",
       "      <td>[HUMAN RESOURCES DIRECTOR, Expert in organizat...</td>\n",
       "    </tr>\n",
       "  </tbody>\n",
       "</table>\n",
       "</div>"
      ],
      "text/plain": [
       "  Category                                             Resume  \\\n",
       "0       HR  John H. Smith, P.H.R.\\n800-991-5187 | PO Box 1...   \n",
       "1       HR  Name Surname\\nAddress\\nMobile No/Email\\nPERSON...   \n",
       "2       HR  Anthony Brown\\nHR Assistant\\nAREAS OF EXPERTIS...   \n",
       "3       HR  www.downloadmela.com\\nSatheesh\\nEMAIL ID:\\nCar...   \n",
       "4       HR  HUMAN RESOURCES DIRECTOR\\n\\xef\\x82\\xb7Expert i...   \n",
       "\n",
       "                                        split_resume  \n",
       "0  [John H. Smith, P.H.R., 800-991-5187 | PO Box ...  \n",
       "1  [Name Surname, Address, Mobile No/Email, PERSO...  \n",
       "2  [Anthony Brown, HR Assistant, AREAS OF EXPERTI...  \n",
       "3  [www.downloadmela.com, Satheesh, EMAIL ID:, Ca...  \n",
       "4  [HUMAN RESOURCES DIRECTOR, Expert in organizat...  "
      ]
     },
     "execution_count": 36,
     "metadata": {},
     "output_type": "execute_result"
    }
   ],
   "source": [
    "cleaned_df.head()"
   ]
  },
  {
   "cell_type": "code",
   "execution_count": 37,
   "metadata": {},
   "outputs": [
    {
     "data": {
      "text/plain": [
       "['Market Your Skills: Interpersonal,',\n",
       " 'Analytical, Leadership, Communication',\n",
       " 'Sarah K. Davis',\n",
       " '1234 W. Michigan Ave  Chicago, IL 45670  456-7890-1234  sarahdavis@northwestern.edu',\n",
       " 'EDUCATION',\n",
       " 'June 2015',\n",
       " 'Northwestern University, Evanston, IL',\n",
       " 'Master of Science in Higher Education Administration and Policy',\n",
       " 'Masters Research Project: What on-the-job experiences at a college union relate most strongly with undergraduate',\n",
       " 'learning outcomes?',\n",
       " 'June 2012',\n",
       " 'Highlight any relevant experience within',\n",
       " 'University of Virginia, Charlottesville, VA',\n",
       " 'higher education through internships,',\n",
       " 'Bachelor of Science in Psychology',\n",
       " 'graduate assistantships, or volunteer work',\n",
       " 'Magna Cum Laude',\n",
       " 'CAREER SERVICES EXPERIENCE',\n",
       " 'University Career Services, Northwestern University',\n",
       " 'Career Counseling Intern',\n",
       " 'August 2014  Present',\n",
       " ' Conduct internship advising to undergraduate students and attended internship unit meetings to discuss trends',\n",
       " 'and development',\n",
       " ' Provide individual career counseling services for students, including major/minor decision-making guidance,',\n",
       " 'assessment administration and interpretation, and job search consultation',\n",
       " ' Develop an International Alumni Panel event with International Student Association members: composed',\n",
       " 'invitations, coordinated with NUs Alumni and the International Office, directed the marketing efforts, and',\n",
       " 'moderated the discussion between panelists and over 50 attendees',\n",
       " ' Analyzed and critiqued student resumes and cover letters, interpret Myers-Briggs and Interest Inventory',\n",
       " 'assessments, administer values and majors card sort activity on a weekly basis',\n",
       " 'July 2012 - Present',\n",
       " 'Alumni Sharing Knowledge Program, University of Virginia',\n",
       " 'Alumni Career Mentor',\n",
       " ' Offer career development guidance to undergraduate students, graduate students and alumni: mock interviews,',\n",
       " 'resume critique, networking advice, and academic planning',\n",
       " ' Participated in an academic and professional panel discussion for low-income and first-generation students',\n",
       " '(TRiO Student Support Services)',\n",
       " ' Selected to feature professional profile in the Career Centers online newsletter for April 2013',\n",
       " 'Demonstrate ability to work with people',\n",
       " 'of all levels (students, staff, faculty,',\n",
       " 'administrators) and background',\n",
       " 'Focus on the population you served,',\n",
       " 'resources developed, area of',\n",
       " 'specialty, and key accomplishments',\n",
       " 'STUDENT AFFAIRS EXPERIENCE',\n",
       " 'University of Virginia Alumni Relations Association, Charlottesville, VA',\n",
       " 'April 2010  June 2012',\n",
       " 'Graduate Assistant',\n",
       " ' Strategized and liaised daily with an Advancement Team consisting of the Dean, development officers, and',\n",
       " 'communications team in order to support the academic mission of the University',\n",
       " ' Increased outreach and recruitment of alumni volunteers from the 100,000 alumni through targeted outreach',\n",
       " 'with campus partners, LinkedIn, development officers, and a customer relationship management database',\n",
       " ' Built partnerships with identified alumni to increase career mentorship, internship, and networking',\n",
       " 'opportunities for students',\n",
       " 'SKILLS',\n",
       " 'Technical',\n",
       " 'Language',\n",
       " 'MS Word, Excel, PowerPoint, Publisher; Social Media: LinkedIn, Facebook',\n",
       " 'Spanish (fluent)']"
      ]
     },
     "execution_count": 37,
     "metadata": {},
     "output_type": "execute_result"
    }
   ],
   "source": [
    "cleaned_df['split_resume'][305]"
   ]
  },
  {
   "cell_type": "code",
   "execution_count": 38,
   "metadata": {},
   "outputs": [],
   "source": [
    "# EMPLOYMENT HISTORY\n",
    "# CAREER HISTORY\n",
    "# Professional Experience:\n",
    "# PROFESSIONAL EXPERIENCE\n",
    "# CAREER HISTORY\n",
    "# Project Experience:\n",
    "# PROFESSIONAL CAREER SERVICES EXPERIENCE"
   ]
  },
  {
   "cell_type": "code",
   "execution_count": 39,
   "metadata": {},
   "outputs": [],
   "source": [
    "# \\\\x --> \\x (so that regex doesn't count it as an escape sequence)\n",
    "# \\w --> any non whitespace character\n",
    "\n",
    "# \\\\x\\w\\w matches \\x--, where - is not a whitespace character\n",
    "markers = re.compile('professional|career|project|employment|work? employment|experience|history', re.IGNORECASE)\n",
    "\n",
    "cleaned_df['better_split'] = cleaned_df['Resume'].apply(\n",
    "    lambda x: [[m for m in markers.split(re.sub(r'\\\\x\\w\\w', '', i).strip()) if len(m) > 0] for i in x.split('\\\\n') if len(re.sub(r'\\\\x\\w\\w', '', i).strip()) > 0])"
   ]
  },
  {
   "cell_type": "code",
   "execution_count": 40,
   "metadata": {},
   "outputs": [
    {
     "name": "stdout",
     "output_type": "stream",
     "text": [
      "[['Jo Sample'], ['123 Ocean Drive'], ['Sampleville, FL 1234 United Statessample@connectcv.com0418 675 30902 867 5309'], [' Objective'], ['I am self-motivated, efficient and diplomatic human resources ', ' with eight years ', ' in the industry'], ['skills make me a perfect fit for your company.'], [' '], ['Jan 2007  present: HR Officer'], ['Pacific Life Insurance'], ['Responsibilities:'], ['Developed and conducted training classes for new and continuing staff.'], ['Monitored, evaluated, and counseled staff of 42 employees.'], ['Designed and implemented employee incentive programs to increase productivity and customer satisfaction. R'], ['while maintaining streamlined, profitable department.'], ['Managed operations including forecasting, inventory control, purchasing, and quality insurance. Maximized reve'], ['labour cost controls, and promotions.'], ['Produce monthly, quarterly and yearly benefits and payroll totals for the company'], ['Terminated/ hired, oversaw, educated, and delegated personnel.'], ['Performed and analysed technological decisions and expenses.'], ['In charge of computer safeguarding and evaluating personnel records to ensure observance related to leaves,'], ['Jan 2004  Dec 2006: HR Assistant Manager'], ['Hiltown Hotel'], ['Responsibilities:'], ['Researched and implemented cafeteria restructures. Increased internal customer ratings by 17% through opinio'], ['physical plant redesign, special events and quality controls.'], ['Developed and implemented annual business plans.'], ['Evaluated processes to improve processes and employee morale. Reduced absenteeism and tardiness by 25%'], ['service quality in a multicultural union work environment.'], ['Acted as liaison between union employees and management. Analysed and resolved personnel grievances. Ma'], ['1,500 employees.'], ['Jan 2002  Dec 2003: HR Assistant'], ['Hello There Advertising Agency'], ['Responsibilities:'], ['Researched and evaluated management practices, training and development programs, leadership principles a'], ['resources department in order to improve the workflow of the company.'], ['Assisted managers with hiring procedures, screening of candidates, coordinating interviews.'], ['Assisted staff with payroll, leave, redundancy and holiday queries.'], ['Updated the OH&S Manual under the direction of the HR Manager.'], ['Education / Qualifications'], ['Bachelor of Business Administration: Human Resource Management'], ['The University of Western Australia'], ['Graduated: December 2001'], ['Higher School Certificate'], ['Perth Girls High School'], ['Graduated: December 1998'], ['Skills Summary'], ['Communication'], ['I have high-level writing skills as seen in the print and online training courseware I'], ['have developed, and excellent verbal communication skills, including exceptional'], ['performance in public speaking and presentations.'], ['Organisational and time-management skills'], ['I have developed a personal time management plan that details daily, weekly and'], ['monthly tasks. This has enabled me to prioritise tasks and has enabled me to meet'], ['my performance indicators in my own job and to ensure that the additional tasks are'], ['also completed on time.'], ['Staff relations'], ['I am committed to maintaining good employer-employee relations to maximise'], ['productivity in the department. I have developed excellent relationships with the 42'], ['staff working in the department and take time to listen to staff enquiries and'], ['complaints, identify their needs and work through any issues that might be'], ['concerning them. I am keen to ensure that staff welfare is prioritised and in the time I'], ['have been with the department, there has been a 40 per cent reduction in personal'], ['leave and a dramatic improvement in retention rates.'], ['Skills'], ['Name'], ['Proficiency'], ['Microsoft'], ['Advanced'], ['Excel'], ['Microsoft'], ['Advanced'], ['Office'], ['Languages'], ['Name'], ['Proficiency'], ['Italian'], ['Fluent'], ['Immigration / Work Status'], ['Australia  Citizen'], ['Hobbies / Interests'], ['Italian cooking, architecture, art and design, ancient Rome, football and AFL.']]\n"
     ]
    }
   ],
   "source": [
    "print(cleaned_df['better_split'][20])"
   ]
  },
  {
   "cell_type": "code",
   "execution_count": 47,
   "metadata": {},
   "outputs": [
    {
     "data": {
      "text/plain": [
       "\"[ [ ' Jo Sample ' ] , [ ' 123 Ocean Drive ' ] , [ ' Sampleville , FL 1234 United Statessample@connectcv.com0418 675 30902 867 5309 ' ] , [ ' Objective ' ] , [ ' -PRON- be self - motivate , efficient and diplomatic human resource ' , ' with eight year ' , ' in the industry ' ] , [ ' skill make -PRON- a perfect fit for -PRON- company . ' ] , [ ' ' ] , [ ' Jan 2007   present : HR Officer ' ] , [ ' Pacific Life Insurance ' ] , [ ' responsibility : ' ] , [ ' develop and conduct training class for new and continue staff . ' ] , [ ' Monitored , evaluate , and counseled staff of 42 employee . ' ] , [ ' design and implement employee incentive program to increase productivity and customer satisfaction . r ' ] , [ ' while maintain streamline , profitable department . ' ] , [ ' manage operation include forecasting , inventory control , purchasing , and quality insurance . Maximized reve ' ] , [ ' labour cost control , and promotion . ' ] , [ ' produce monthly , quarterly and yearly benefit and payroll total for the company ' ] , [ ' Terminated/ hire , oversaw , educate , and delegated personnel . ' ] , [ ' perform and analyse technological decision and expense . ' ] , [ ' in charge of computer safeguard and evaluate personnel record to ensure observance related to leave , ' ] , [ ' Jan 2004   Dec 2006 : HR Assistant Manager ' ] , [ ' Hiltown Hotel ' ] , [ ' responsibility : ' ] , [ ' research and implement cafeteria restructure . increase internal customer rating by 17 % through opinio ' ] , [ ' physical plant redesign , special event and quality control . ' ] , [ ' develop and implement annual business plan . ' ] , [ ' evaluate process to improve process and employee morale . reduced absenteeism and tardiness by 25 % ' ] , [ ' service quality in a multicultural union work environment . ' ] , [ ' act as liaison between union employee and management . analyse and resolve personnel grievance . Ma ' ] , [ ' 1,500 employee . ' ] , [ ' Jan 2002   Dec 2003 : HR Assistant ' ] , [ ' hello there Advertising Agency ' ] , [ ' responsibility : ' ] , [ ' research and evaluate management practice , training and development program , leadership principle a ' ] , [ ' resource department in order to improve the workflow of the company . ' ] , [ ' assist manager with hire procedure , screening of candidate , coordinate interview . ' ] , [ ' assisted staff with payroll , leave , redundancy and holiday query . ' ] , [ ' update the OH&S Manual under the direction of the HR Manager . ' ] , [ ' Education / Qualifications ' ] , [ ' Bachelor of Business Administration : Human Resource Management ' ] , [ ' the University of Western Australia ' ] , [ ' graduate : December 2001 ' ] , [ ' Higher School Certificate ' ] , [ ' Perth Girls High School ' ] , [ ' graduate : December 1998 ' ] , [ ' Skills Summary ' ] , [ ' Communication ' ] , [ ' -PRON- have high - level writing skill as see in the print and online training courseware -PRON- ' ] , [ ' have develop , and excellent verbal communication skill , include exceptional ' ] , [ ' performance in public speaking and presentation . ' ] , [ ' organisational and time - management skill ' ] , [ ' -PRON- have develop a personal time management plan that detail daily , weekly and ' ] , [ ' monthly task . this have enable -PRON- to prioritise task and have enable -PRON- to meet ' ] , [ ' -PRON- performance indicator in -PRON- own job and to ensure that the additional task be ' ] , [ ' also complete on time . ' ] , [ ' staff relation ' ] , [ ' -PRON- be committed to maintain good employer - employee relation to maximise ' ] , [ ' productivity in the department . -PRON- have develop excellent relationship with the 42 ' ] , [ ' staff work in the department and take time to listen to staff enquiry and ' ] , [ ' complaint , identify -PRON- need and work through any issue that may be ' ] , [ ' concern -PRON- . -PRON- be keen to ensure that staff welfare be prioritise and in the time -PRON- ' ] , [ ' have be with the department , there have be a 40 per cent reduction in personal ' ] , [ ' leave and a dramatic improvement in retention rate . ' ] , [ ' skill ' ] , [ ' name ' ] , [ ' Proficiency ' ] , [ ' Microsoft ' ] , [ ' advanced ' ] , [ ' Excel ' ] , [ ' Microsoft ' ] , [ ' advanced ' ] , [ ' Office ' ] , [ ' language ' ] , [ ' name ' ] , [ ' Proficiency ' ] , [ ' Italian ' ] , [ ' Fluent ' ] , [ ' immigration / work Status ' ] , [ ' Australia   Citizen ' ] , [ ' Hobbies / Interests ' ] , [ ' italian cooking , architecture , art and design , ancient Rome , football and AFL . ' ] ]\""
      ]
     },
     "execution_count": 47,
     "metadata": {},
     "output_type": "execute_result"
    }
   ],
   "source": [
    "import spacy\n",
    "# to download spacy, go to terminal and enter these two lines:\n",
    "# pip install spacy\n",
    "# spacy download en\n",
    "\n",
    "# Initialize spacy 'en' model, keeping only tagger component needed for lemmatization\n",
    "nlp = spacy.load('en', disable=['parser', 'ner'])\n",
    "\n",
    "sentence = str(cleaned_df['better_split'][20])\n",
    "\n",
    "# Parse the sentence using the loaded 'en' model object `nlp`\n",
    "doc = nlp(sentence)\n",
    "\n",
    "# Extract the lemma for each token and join\n",
    "lemmatized = \" \".join([token.lemma_ for token in doc])\n",
    "lemmatized"
   ]
  },
  {
   "cell_type": "code",
   "execution_count": 48,
   "metadata": {},
   "outputs": [
    {
     "data": {
      "text/plain": [
       "\"[ [ ' Jo Sample ' ] , [ ' 123 Ocean Drive ' ] , [ ' Sampleville , FL 1234 United Statessample@connectcv.com0418 675 30902 867 5309 ' ] , [ ' Objective ' ] , [ ' self - motivate , efficient diplomatic human resource ' , ' eight year ' , ' industry ' ] , [ ' skill make perfect fit company . ' ] , [ ' ' ] , [ ' Jan 2007 present : HR Officer ' ] , [ ' Pacific Life Insurance ' ] , [ ' responsibility : ' ] , [ ' develop conduct training class new continue staff . ' ] , [ ' Monitored , evaluate , counseled staff 42 employee . ' ] , [ ' design implement employee incentive program increase productivity customer satisfaction . r ' ] , [ ' maintain streamline , profitable department . ' ] , [ ' manage operation include forecasting , inventory control , purchasing , quality insurance . Maximized reve ' ] , [ ' labour cost control , promotion . ' ] , [ ' produce monthly , quarterly yearly benefit payroll total company ' ] , [ ' Terminated/ hire , oversaw , educate , delegated personnel . ' ] , [ ' perform analyse technological decision expense . ' ] , [ ' charge computer safeguard evaluate personnel record ensure observance related leave , ' ] , [ ' Jan 2004 Dec 2006 : HR Assistant Manager ' ] , [ ' Hiltown Hotel ' ] , [ ' responsibility : ' ] , [ ' research implement cafeteria restructure . increase internal customer rating 17 % opinio ' ] , [ ' physical plant redesign , special event quality control . ' ] , [ ' develop implement annual business plan . ' ] , [ ' evaluate process improve process employee morale . reduced absenteeism tardiness 25 % ' ] , [ ' service quality multicultural union work environment . ' ] , [ ' act liaison union employee management . analyse resolve personnel grievance . Ma ' ] , [ ' 1,500 employee . ' ] , [ ' Jan 2002 Dec 2003 : HR Assistant ' ] , [ ' hello Advertising Agency ' ] , [ ' responsibility : ' ] , [ ' research evaluate management practice , training development program , leadership principle ' ] , [ ' resource department order improve workflow company . ' ] , [ ' assist manager hire procedure , screening candidate , coordinate interview . ' ] , [ ' assisted staff payroll , leave , redundancy holiday query . ' ] , [ ' update OH&S Manual direction HR Manager . ' ] , [ ' Education / Qualifications ' ] , [ ' Bachelor Business Administration : Human Resource Management ' ] , [ ' University Western Australia ' ] , [ ' graduate : December 2001 ' ] , [ ' Higher School Certificate ' ] , [ ' Perth Girls High School ' ] , [ ' graduate : December 1998 ' ] , [ ' Skills Summary ' ] , [ ' Communication ' ] , [ ' high - level writing skill see print online training courseware ' ] , [ ' develop , excellent verbal communication skill , include exceptional ' ] , [ ' performance public speaking presentation . ' ] , [ ' organisational time - management skill ' ] , [ ' develop personal time management plan detail daily , weekly ' ] , [ ' monthly task . enable prioritise task enable meet ' ] , [ ' performance indicator job ensure additional task ' ] , [ ' also complete time . ' ] , [ ' staff relation ' ] , [ ' committed maintain good employer - employee relation maximise ' ] , [ ' productivity department . develop excellent relationship 42 ' ] , [ ' staff work department take time listen staff enquiry ' ] , [ ' complaint , identify need work issue may ' ] , [ ' concern . keen ensure staff welfare prioritise time ' ] , [ ' department , 40 per cent reduction personal ' ] , [ ' leave dramatic improvement retention rate . ' ] , [ ' skill ' ] , [ ' name ' ] , [ ' Proficiency ' ] , [ ' Microsoft ' ] , [ ' advanced ' ] , [ ' Excel ' ] , [ ' Microsoft ' ] , [ ' advanced ' ] , [ ' Office ' ] , [ ' language ' ] , [ ' name ' ] , [ ' Proficiency ' ] , [ ' Italian ' ] , [ ' Fluent ' ] , [ ' immigration / work Status ' ] , [ ' Australia Citizen ' ] , [ ' Hobbies / Interests ' ] , [ ' italian cooking , architecture , art design , ancient Rome , football AFL . ' ] ]\""
      ]
     },
     "execution_count": 48,
     "metadata": {},
     "output_type": "execute_result"
    }
   ],
   "source": [
    "# remove stopped words. basically removing irrelevant words such as \"and\" or \"to\"\n",
    "from nltk.corpus import stopwords \n",
    "cachedStopWords = stopwords.words(\"english\")\n",
    "text = lemmatized\n",
    "lemmatizedandstopped = \" \".join([word for word in text.split() if word not in cachedStopWords and word!='-PRON-'])\n",
    "lemmatizedandstopped\n",
    "\n"
   ]
  },
  {
   "cell_type": "code",
   "execution_count": null,
   "metadata": {},
   "outputs": [],
   "source": []
  },
  {
   "cell_type": "code",
   "execution_count": null,
   "metadata": {},
   "outputs": [],
   "source": []
  }
 ],
 "metadata": {
  "kernelspec": {
   "display_name": "Python 3",
   "language": "python",
   "name": "python3"
  },
  "language_info": {
   "codemirror_mode": {
    "name": "ipython",
    "version": 3
   },
   "file_extension": ".py",
   "mimetype": "text/x-python",
   "name": "python",
   "nbconvert_exporter": "python",
   "pygments_lexer": "ipython3",
   "version": "3.7.4"
  }
 },
 "nbformat": 4,
 "nbformat_minor": 2
}
